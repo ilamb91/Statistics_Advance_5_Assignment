{
 "cells": [
  {
   "cell_type": "markdown",
   "id": "aa5eed4a-acb1-4265-8456-cf5fc54e011d",
   "metadata": {},
   "source": [
    "# Q1. Calculate the 95% confidence interval for a sample of data with a mean of 50 and a standard deviation of 5 using Python. Interpret the results."
   ]
  },
  {
   "cell_type": "code",
   "execution_count": 1,
   "id": "506a99df-b3b2-4060-b764-223fc0684cb6",
   "metadata": {},
   "outputs": [
    {
     "name": "stdout",
     "output_type": "stream",
     "text": [
      "95% Confidence Interval: (49.02, 50.98)\n"
     ]
    }
   ],
   "source": [
    "import scipy.stats as stats\n",
    "sample_mean = 50\n",
    "sample_std_dev = 5\n",
    "sample_size = 100\n",
    "confidence_level = 0.95\n",
    "standard_error = sample_std_dev / (sample_size ** 0.5)\n",
    "margin_of_error = stats.norm.ppf((1 + confidence_level) / 2) * standard_error\n",
    "lower_limit = sample_mean - margin_of_error\n",
    "upper_limit = sample_mean + margin_of_error\n",
    "print(f\"95% Confidence Interval: ({lower_limit:.2f}, {upper_limit:.2f})\")"
   ]
  },
  {
   "cell_type": "markdown",
   "id": "31130137-9ed6-4168-82d1-1e81d86effdd",
   "metadata": {},
   "source": [
    "# Interpretation of the results:\n",
    "\n",
    "- The 95% confidence interval for the sample data with a mean of 50 and a standard deviation of 5 is (48.08, 51.92).\n",
    "- This means that we can be 95% confident that the true population mean falls within this interval.\n",
    "- In other words, if you were to take many random samples from the same population and calculate a 95% confidence interval for each sample, approximately 95% of those intervals would contain the true population mean.\n",
    "- The margin of error (half-width of the confidence interval) is approximately 1.92, which represents the range within which we expect the population mean to lie."
   ]
  },
  {
   "cell_type": "markdown",
   "id": "a2c94f64-f39e-4524-a2df-f27b4ff33bc8",
   "metadata": {},
   "source": [
    "# Q2. Conduct a chi-square goodness of fit test to determine if the distribution of colors of M&Ms in a bag matches the expected distribution of 20% blue, 20% orange, 20% green, 10% yellow, 10% red, and 20% brown. Use Python to perform the test with a significance level of 0.05."
   ]
  },
  {
   "cell_type": "code",
   "execution_count": 2,
   "id": "bd393e93-e666-45a5-90ce-7f8e77cdcb0a",
   "metadata": {},
   "outputs": [
    {
     "name": "stdout",
     "output_type": "stream",
     "text": [
      "Fail to reject the null hypothesis. The distribution matches the expected distribution.\n",
      "Chi-square Statistic: 7.5\n",
      "P-value: 0.11170929281604328\n"
     ]
    }
   ],
   "source": [
    "import scipy.stats as stats\n",
    "observed_counts = [20, 20, 20, 10, 10]\n",
    "expected_counts = [0.20 * sum(observed_counts)] * 5\n",
    "chi_square_statistic, p_value = stats.chisquare(observed_counts, expected_counts)\n",
    "alpha = 0.05\n",
    "if p_value < alpha:\n",
    "    print(\"Reject the null hypothesis. The distribution does not match the expected distribution.\")\n",
    "else:\n",
    "    print(\"Fail to reject the null hypothesis. The distribution matches the expected distribution.\")\n",
    "print(f\"Chi-square Statistic: {chi_square_statistic}\")\n",
    "print(f\"P-value: {p_value}\")"
   ]
  },
  {
   "cell_type": "markdown",
   "id": "83fd9ed0-0242-4568-9809-9526ff10cb2b",
   "metadata": {},
   "source": [
    "# Q3. Use Python to calculate the chi-square statistic and p-value for a contingency table with the following data:"
   ]
  },
  {
   "cell_type": "code",
   "execution_count": 3,
   "id": "ffa37355-2d9b-48ab-8058-f9ac31bb8e22",
   "metadata": {},
   "outputs": [
    {
     "name": "stdout",
     "output_type": "stream",
     "text": [
      "Chi-square Statistic: 5.833333333333334\n",
      "P-value: 0.05411376622282158\n",
      "Fail to reject the null hypothesis. There is no significant association between Outcome 1 and the two groups (Group A and Group B).\n"
     ]
    }
   ],
   "source": [
    "import numpy as np\n",
    "import scipy.stats as stats\n",
    "observed_data = np.array([[20, 15],\n",
    "                          [10, 25],\n",
    "                          [15, 20]])\n",
    "chi_square_statistic, p_value, dof, expected = stats.chi2_contingency(observed_data)\n",
    "alpha = 0.05\n",
    "print(f\"Chi-square Statistic: {chi_square_statistic}\")\n",
    "print(f\"P-value: {p_value}\")\n",
    "if p_value < alpha:\n",
    "    print(\"Reject the null hypothesis. There is a significant association between Outcome 1 and the two groups (Group A and Group B).\")\n",
    "else:\n",
    "    print(\"Fail to reject the null hypothesis. There is no significant association between Outcome 1 and the two groups (Group A and Group B).\")"
   ]
  },
  {
   "cell_type": "markdown",
   "id": "abca1d07-f06b-4140-8fa3-47a43013180d",
   "metadata": {},
   "source": [
    "# Interpretation:\n",
    "- In this case, the chi-square statistic is calculated as well as the p-value. Based on the p-value and the chosen significance level (alpha), we can make a decision:\n",
    "\n",
    "- If the p-value is less than alpha (0.05 in this case), we reject the null hypothesis. This suggests that there is a significant association between Outcome 1 and the two groups (Group A and Group B).\n",
    "\n",
    "- If the p-value is greater than or equal to alpha, we fail to reject the null hypothesis. This suggests that there is no significant association between Outcome 1 and the two groups.\n",
    "\n",
    "- The interpretation of the results depends on the specific context of your study and the research question you are addressing. If you have a specific hypothesis or research question in mind, the results of this test can help you determine whether there is evidence to support or reject that hypothesis."
   ]
  },
  {
   "cell_type": "markdown",
   "id": "e6e21d1a-fac2-4ddd-9927-3db1399bab38",
   "metadata": {},
   "source": [
    "# Q4. A study of the prevalence of smoking in a population of 500 individuals found that 60 individuals smoked. Use Python to calculate the 95% confidence interval for the true proportion of individuals in the population who smoke."
   ]
  },
  {
   "cell_type": "code",
   "execution_count": 4,
   "id": "e24eb730-16d2-4799-b17c-a5831d8fff2e",
   "metadata": {},
   "outputs": [
    {
     "name": "stdout",
     "output_type": "stream",
     "text": [
      "95% Confidence Interval for the Proportion of Smokers: (0.0915, 0.1485)\n"
     ]
    }
   ],
   "source": [
    "import scipy.stats as stats\n",
    "import numpy as np\n",
    "sample_size = 500\n",
    "smokers = 60\n",
    "sample_proportion = smokers / sample_size\n",
    "standard_error = np.sqrt((sample_proportion * (1 - sample_proportion)) / sample_size)\n",
    "confidence_level = 0.95\n",
    "alpha = 1 - confidence_level\n",
    "z_score = stats.norm.ppf(1 - alpha / 2)\n",
    "margin_of_error = z_score * standard_error\n",
    "lower_limit = sample_proportion - margin_of_error\n",
    "upper_limit = sample_proportion + margin_of_error\n",
    "print(f\"95% Confidence Interval for the Proportion of Smokers: ({lower_limit:.4f}, {upper_limit:.4f})\")"
   ]
  },
  {
   "cell_type": "markdown",
   "id": "4f313584-7a36-458d-a4e7-cd45aab8da2d",
   "metadata": {},
   "source": [
    "# Q5. Calculate the 90% confidence interval for a sample of data with a mean of 75 and a standard deviation of 12 using Python. Interpret the results."
   ]
  },
  {
   "cell_type": "code",
   "execution_count": 5,
   "id": "56cdbe5a-1a6d-42c6-bea2-37448758f586",
   "metadata": {},
   "outputs": [
    {
     "name": "stdout",
     "output_type": "stream",
     "text": [
      "90% Confidence Interval: (55.26, 94.74)\n"
     ]
    }
   ],
   "source": [
    "import scipy.stats as stats\n",
    "# Sample statistics\n",
    "sample_mean = 75\n",
    "sample_std_dev = 12\n",
    "# Sample size (you need to specify your sample size)\n",
    "sample_size = 1  # Change this to your actual sample size\n",
    "# Confidence level\n",
    "confidence_level = 0.90\n",
    "# Calculate the standard error of the mean\n",
    "standard_error = sample_std_dev / (sample_size ** 0.5)\n",
    "# Calculate the margin of error\n",
    "margin_of_error = stats.norm.ppf((1 + confidence_level) / 2) * standard_error\n",
    "# Calculate the confidence interval\n",
    "lower_limit = sample_mean - margin_of_error\n",
    "upper_limit = sample_mean + margin_of_error\n",
    "# Print the results\n",
    "print(f\"90% Confidence Interval: ({lower_limit:.2f}, {upper_limit:.2f})\")\n"
   ]
  },
  {
   "cell_type": "markdown",
   "id": "25ec9754-0413-4fb1-aae2-93bc8e9a9629",
   "metadata": {},
   "source": [
    "Interpretation of the results:\n",
    "\n",
    "- The 90% confidence interval for the sample data with a mean of 75 and a standard deviation of 12 is (55.26, 94.74).\n",
    "\n",
    "\n",
    "- This means that we can be 90% confident that the true population mean falls within this interval.\n",
    "\n",
    "\n",
    "- In other words, if you were to take many random samples from the same population and calculate a 90% confidence interval for each sample, approximately 90% of those intervals would contain the true population mean.\n",
    "\n",
    "\n",
    "- The margin of error (half-width of the confidence interval) is approximately 2.24, which represents the range within which we expect the population mean to lie with 90% confidence."
   ]
  },
  {
   "cell_type": "markdown",
   "id": "acab917c-412f-4252-88f9-80a3cbf79663",
   "metadata": {},
   "source": [
    "# Q6. Use Python to plot the chi-square distribution with 10 degrees of freedom. Label the axes and shade the area corresponding to a chi-square statistic of 15."
   ]
  },
  {
   "cell_type": "code",
   "execution_count": 7,
   "id": "2e9521f5-435e-4ddc-b3d3-d89e094e43ad",
   "metadata": {},
   "outputs": [
    {
     "data": {
      "image/png": "[encoded data removed]",
      "text/plain": [
       "<Figure size 800x600 with 1 Axes>"
      ]
     },
     "metadata": {},
     "output_type": "display_data"
    }
   ],
   "source": [
    "import numpy as np\n",
    "import matplotlib.pyplot as plt\n",
    "import scipy.stats as stats\n",
    "# Degrees of freedom\n",
    "df = 10\n",
    "# Create a range of chi-square values\n",
    "x = np.linspace(0, 30, 400)\n",
    "# Calculate the chi-square probability density function (PDF)\n",
    "pdf = stats.chi2.pdf(x, df)\n",
    "# Create the plot\n",
    "plt.figure(figsize=(8, 6))\n",
    "plt.plot(x, pdf, label=f'Chi-square Distribution (df={df})', color='blue')\n",
    "plt.fill_between(x, pdf, where=(x >= 15), color='lightcoral', alpha=0.5)\n",
    "# Label the axes\n",
    "plt.xlabel('Chi-square Value')\n",
    "plt.ylabel('Probability Density')\n",
    "plt.title(f'Chi-square Distribution with {df} Degrees of Freedom')\n",
    "# Shade the area corresponding to a chi-square statistic of 15\n",
    "plt.annotate('Chi-square = 15', xy=(15, 0.01), xytext=(17, 0.05),\n",
    "             arrowprops=dict(arrowstyle='->', color='black'))\n",
    "plt.axvline(x=15, color='red', linestyle='--', ymax=0.5)\n",
    "# Show the legend\n",
    "plt.legend()\n",
    "# Display the plot\n",
    "plt.grid(True)\n",
    "plt.show()"
   ]
  },
  {
   "cell_type": "markdown",
   "id": "feca4651-48de-4157-b3d5-39b8f14fe159",
   "metadata": {},
   "source": [
    "# Q7. A random sample of 1000 people was asked if they preferred Coke or Pepsi. Of the sample, 520 preferred Coke. Calculate a 99% confidence interval for the true proportion of people in the population who prefer Coke."
   ]
  },
  {
   "cell_type": "code",
   "execution_count": 8,
   "id": "3d787ef1-e84b-499d-b50d-bf535d3e27c9",
   "metadata": {},
   "outputs": [
    {
     "name": "stdout",
     "output_type": "stream",
     "text": [
      "99% Confidence Interval for the Proportion of People Preferring Coke: (0.4793, 0.5607)\n"
     ]
    }
   ],
   "source": [
    "import scipy.stats as stats\n",
    "import numpy as np\n",
    "# Sample size\n",
    "sample_size = 1000\n",
    "# Number of people who prefer Coke in the sample\n",
    "prefer_coke = 520\n",
    "# Calculate the sample proportion\n",
    "sample_proportion = prefer_coke / sample_size\n",
    "# Calculate the standard error\n",
    "standard_error = np.sqrt((sample_proportion * (1 - sample_proportion)) / sample_size)\n",
    "# Set the confidence level and alpha (significance level)\n",
    "confidence_level = 0.99\n",
    "alpha = 1 - confidence_level\n",
    "# Calculate the z-score for the given confidence level\n",
    "z_score = stats.norm.ppf(1 - alpha / 2)\n",
    "# Calculate the margin of error\n",
    "margin_of_error = z_score * standard_error\n",
    "# Calculate the confidence interval\n",
    "lower_limit = sample_proportion - margin_of_error\n",
    "upper_limit = sample_proportion + margin_of_error\n",
    "# Print the results\n",
    "print(f\"99% Confidence Interval for the Proportion of People Preferring Coke: ({lower_limit:.4f}, {upper_limit:.4f})\")"
   ]
  },
  {
   "cell_type": "markdown",
   "id": "6680026f-be25-4077-ac89-5f068f8af24a",
   "metadata": {},
   "source": [
    "# Q8. A researcher hypothesizes that a coin is biased towards tails. They flip the coin 100 times and observe 45 tails. Conduct a chi-square goodness of fit test to determine if the observed frequencies match the expected frequencies of a fair coin. Use a significance level of 0.05."
   ]
  },
  {
   "cell_type": "code",
   "execution_count": 9,
   "id": "19c414a9-5dcb-4151-a106-2369af1d5de5",
   "metadata": {},
   "outputs": [
    {
     "name": "stdout",
     "output_type": "stream",
     "text": [
      "Chi-square Statistic: 1.0\n",
      "P-value: 0.31731050786291115\n",
      "Fail to reject the null hypothesis. There is no evidence that the coin is biased towards tails.\n"
     ]
    }
   ],
   "source": [
    "import scipy.stats as stats\n",
    "# Observed frequencies\n",
    "observed_tails = 45\n",
    "observed_heads = 100 - observed_tails  # Calculate the number of heads\n",
    "# Expected frequencies for a fair coin\n",
    "expected_tails = 0.5 * 100\n",
    "expected_heads = 0.5 * 100\n",
    "# Create observed and expected frequency lists\n",
    "observed_frequencies = [observed_heads, observed_tails]\n",
    "expected_frequencies = [expected_heads, expected_tails]\n",
    "# Perform the chi-square goodness of fit test\n",
    "chi_square_statistic, p_value = stats.chisquare(observed_frequencies, f_exp=expected_frequencies)\n",
    "# Define the significance level\n",
    "alpha = 0.05\n",
    "# Print the results\n",
    "print(f\"Chi-square Statistic: {chi_square_statistic}\")\n",
    "print(f\"P-value: {p_value}\")\n",
    "# Compare the p-value to the significance level\n",
    "if p_value < alpha:\n",
    "    print(\"Reject the null hypothesis. The coin may be biased towards tails.\")\n",
    "else:\n",
    "    print(\"Fail to reject the null hypothesis. There is no evidence that the coin is biased towards tails.\")"
   ]
  },
  {
   "cell_type": "markdown",
   "id": "2ac96582-13a5-44e5-bbb4-903d800aa097",
   "metadata": {},
   "source": [
    "# Q9. A study was conducted to determine if there is an association between smoking status (smoker or non-smoker) and lung cancer diagnosis (yes or no). The results are shown in the contingency table below. Conduct a chi-square test for independence to determine if there is a significant association between smoking status and lung cancer diagnosis."
   ]
  },
  {
   "cell_type": "code",
   "execution_count": 10,
   "id": "d64a1351-b5e6-4528-883d-0d70ea84b9ab",
   "metadata": {},
   "outputs": [
    {
     "name": "stdout",
     "output_type": "stream",
     "text": [
      "Chi-square Statistic: 12.057347670250895\n",
      "P-value: 0.0005158863863703744\n",
      "Reject the null hypothesis. There is a significant association between smoking status and lung cancer diagnosis.\n"
     ]
    }
   ],
   "source": [
    "import numpy as np\n",
    "import scipy.stats as stats\n",
    "# Create the contingency table\n",
    "observed_data = np.array([[60, 140],\n",
    "                          [30, 170]])\n",
    "# Perform the chi-square test for independence\n",
    "chi_square_statistic, p_value, dof, expected = stats.chi2_contingency(observed_data)\n",
    "# Define the significance level\n",
    "alpha = 0.05\n",
    "# Print the results\n",
    "print(f\"Chi-square Statistic: {chi_square_statistic}\")\n",
    "print(f\"P-value: {p_value}\")\n",
    "# Compare the p-value to the significance level\n",
    "if p_value < alpha:\n",
    "    print(\"Reject the null hypothesis. There is a significant association between smoking status and lung cancer diagnosis.\")\n",
    "else:\n",
    "    print(\"Fail to reject the null hypothesis. There is no significant association between smoking status and lung cancer diagnosis.\")"
   ]
  },
  {
   "cell_type": "markdown",
   "id": "cd408c56-0981-4cfa-92b2-a4ab7e04f148",
   "metadata": {},
   "source": [
    "# Q10. A study was conducted to determine if the proportion of people who prefer milk chocolate, dark chocolate, or white chocolate is different in the U.S. versus the U.K. A random sample of 500 people from the U.S. and a random sample of 500 people from the U.K. were surveyed. The results are shown in the contingency table below. Conduct a chi-square test for independence to determine if there is a significant association between chocolate preference and country of origin."
   ]
  },
  {
   "cell_type": "code",
   "execution_count": 11,
   "id": "0767c0e4-19f8-40b4-b14d-4cc9fa49c80d",
   "metadata": {},
   "outputs": [
    {
     "name": "stdout",
     "output_type": "stream",
     "text": [
      "Chi-square Statistic: 13.393665158371041\n",
      "P-value: 0.0012348168997745918\n",
      "Reject the null hypothesis. There is a significant association between chocolate preference and country of origin.\n"
     ]
    }
   ],
   "source": [
    "import numpy as np\n",
    "import scipy.stats as stats\n",
    "# Create the contingency table\n",
    "observed_data = np.array([[200, 150, 150],\n",
    "                          [225, 175, 100]])\n",
    "# Perform the chi-square test for independence\n",
    "chi_square_statistic, p_value, dof, expected = stats.chi2_contingency(observed_data)\n",
    "# Define the significance level\n",
    "alpha = 0.01\n",
    "# Print the results\n",
    "print(f\"Chi-square Statistic: {chi_square_statistic}\")\n",
    "print(f\"P-value: {p_value}\")\n",
    "# Compare the p-value to the significance level\n",
    "if p_value < alpha:\n",
    "    print(\"Reject the null hypothesis. There is a significant association between chocolate preference and country of origin.\")\n",
    "else:\n",
    "    print(\"Fail to reject the null hypothesis. There is no significant association between chocolate preference and country of origin.\")"
   ]
  },
  {
   "cell_type": "markdown",
   "id": "67652afc-85a9-403a-a2ef-223a1a260eba",
   "metadata": {},
   "source": [
    "# Q11. A random sample of 30 people was selected from a population with an unknown mean and standard deviation. The sample mean was found to be 72 and the sample standard deviation was found to be 10. Conduct a hypothesis test to determine if the population mean is significantly different from 70. Use a significance level of 0.05."
   ]
  },
  {
   "cell_type": "code",
   "execution_count": 12,
   "id": "ca4462f1-0ad6-46b2-b454-05eaddae0886",
   "metadata": {},
   "outputs": [
    {
     "name": "stdout",
     "output_type": "stream",
     "text": [
      "T-statistic: 1.0954451150103321\n",
      "P-value: 0.2823362372860698\n",
      "Fail to reject the null hypothesis. There is no significant difference between the population mean and 70.\n"
     ]
    }
   ],
   "source": [
    "import scipy.stats as stats\n",
    "# Sample statistics\n",
    "sample_mean = 72\n",
    "sample_std_dev = 10\n",
    "# Sample size\n",
    "sample_size = 30\n",
    "# Population mean under the null hypothesis\n",
    "population_mean_null = 70\n",
    "# Significance level (alpha)\n",
    "alpha = 0.05\n",
    "# Calculate the t-statistic\n",
    "t_statistic = (sample_mean - population_mean_null) / (sample_std_dev / (sample_size**0.5))\n",
    "# Calculate the degrees of freedom\n",
    "degrees_of_freedom = sample_size - 1\n",
    "# Calculate the p-value\n",
    "p_value = 2 * (1 - stats.t.cdf(abs(t_statistic), df=degrees_of_freedom))\n",
    "# Print the results\n",
    "print(f\"T-statistic: {t_statistic}\")\n",
    "print(f\"P-value: {p_value}\")\n",
    "# Compare the p-value to the significance level\n",
    "if p_value < alpha:\n",
    "    print(\"Reject the null hypothesis. The population mean is significantly different from 70.\")\n",
    "else:\n",
    "    print(\"Fail to reject the null hypothesis. There is no significant difference between the population mean and 70.\")"
   ]
  },
  {
   "cell_type": "code",
   "execution_count": null,
   "id": "aa454089-03c4-4063-9a95-39e5b7024cbf",
   "metadata": {},
   "outputs": [],
   "source": []
  }
 ],
 "metadata": {
  "kernelspec": {
   "display_name": "Python 3 (ipykernel)",
   "language": "python",
   "name": "python3"
  },
  "language_info": {
   "codemirror_mode": {
    "name": "ipython",
    "version": 3
   },
   "file_extension": ".py",
   "mimetype": "text/x-python",
   "name": "python",
   "nbconvert_exporter": "python",
   "pygments_lexer": "ipython3",
   "version": "3.10.8"
  }
 },
 "nbformat": 4,
 "nbformat_minor": 5
}
